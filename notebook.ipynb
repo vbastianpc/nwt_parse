{
 "cells": [
  {
   "cell_type": "code",
   "execution_count": 5,
   "metadata": {},
   "outputs": [],
   "source": [
    "from nwt.jw import BibleEpub\n",
    "scripture = BibleEpub.from_citation('mat 24:13, 14', 'en')"
   ]
  },
  {
   "cell_type": "code",
   "execution_count": 11,
   "metadata": {},
   "outputs": [
    {
     "name": "stdout",
     "output_type": "stream",
     "text": [
      "Matthew 24:13, 14\n",
      "13 But the one who has endured to the end will be saved. 14 And this good news of the Kingdom will be preached in all the inhabited earth for a witness to all the nations, and then the end will come.\n"
     ]
    }
   ],
   "source": [
    "print(scripture.get_text())"
   ]
  },
  {
   "cell_type": "code",
   "execution_count": 12,
   "metadata": {},
   "outputs": [
    {
     "name": "stdout",
     "output_type": "stream",
     "text": [
      "<strong><a href=\"https://www.jw.org/finder?wtlocale=E&prefer=lang&bible=40024013-40024014&pub=nwtsty\">Matthew 24:13, 14</a></strong>\n",
      "<a href=\"https://www.jw.org/finder?wtlocale=E&prefer=lang&bible=40024013&pub=nwtsty\">13</a> But the one who has endured to the end will be saved. <a href=\"https://www.jw.org/finder?wtlocale=E&prefer=lang&bible=40024014&pub=nwtsty\">14</a> And this good news of the Kingdom will be preached in all the inhabited earth for a witness to all the nations, and then the end will come.\n"
     ]
    }
   ],
   "source": [
    "print(scripture.get_text('HTML'))"
   ]
  },
  {
   "cell_type": "code",
   "execution_count": 13,
   "metadata": {},
   "outputs": [
    {
     "name": "stdout",
     "output_type": "stream",
     "text": [
      "[Matthew 24:13, 14](https://www.jw.org/finder?wtlocale=E&prefer=lang&bible=40024013-40024014&pub=nwtsty)\n",
      "[13](https://www.jw.org/finder?wtlocale=E&prefer=lang&bible=40024013&pub=nwtsty) But the one who has endured to the end will be saved. [14](https://www.jw.org/finder?wtlocale=E&prefer=lang&bible=40024014&pub=nwtsty) And this good news of the Kingdom will be preached in all the inhabited earth for a witness to all the nations, and then the end will come.\n"
     ]
    }
   ],
   "source": [
    "print(scripture.get_text('Markdown'))"
   ]
  },
  {
   "cell_type": "code",
   "execution_count": 14,
   "metadata": {},
   "outputs": [
    {
     "name": "stdout",
     "output_type": "stream",
     "text": [
      "> [!BIBLE]+ [Matthew 24:13, 14](https://www.jw.org/finder?wtlocale=E&prefer=lang&bible=40024013-40024014&pub=nwtsty) [[Matthew 24:13|]] [[Matthew 24:14|]]\n",
      "> [13](https://www.jw.org/finder?wtlocale=E&prefer=lang&bible=40024013&pub=nwtsty) But the one who has endured to the end will be saved. [14](https://www.jw.org/finder?wtlocale=E&prefer=lang&bible=40024014&pub=nwtsty) And this good news of the Kingdom will be preached in all the inhabited earth for a witness to all the nations, and then the end will come.\n"
     ]
    }
   ],
   "source": [
    "print(scripture.get_text('Obsidian'))"
   ]
  }
 ],
 "metadata": {
  "kernelspec": {
   "display_name": "base",
   "language": "python",
   "name": "python3"
  },
  "language_info": {
   "codemirror_mode": {
    "name": "ipython",
    "version": 3
   },
   "file_extension": ".py",
   "mimetype": "text/x-python",
   "name": "python",
   "nbconvert_exporter": "python",
   "pygments_lexer": "ipython3",
   "version": "3.11.4"
  },
  "orig_nbformat": 4
 },
 "nbformat": 4,
 "nbformat_minor": 2
}
